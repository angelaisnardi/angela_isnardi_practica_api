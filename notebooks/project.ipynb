{
 "cells": [
  {
   "metadata": {},
   "cell_type": "markdown",
   "source": "# Práctica de API request",
   "id": "b0eb257da1b6c6bc"
  },
  {
   "cell_type": "code",
   "id": "initial_id",
   "metadata": {
    "collapsed": true,
    "ExecuteTime": {
     "end_time": "2025-09-13T16:13:51.509845Z",
     "start_time": "2025-09-13T16:13:51.498188Z"
    }
   },
   "source": [
    "import os\n",
    "import json\n",
    "from dotenv import load_dotenv"
   ],
   "outputs": [],
   "execution_count": 59
  },
  {
   "metadata": {},
   "cell_type": "markdown",
   "source": "El siguiente código se encarga de la carga segura de credenciales de autenticación para la API de Spotify mediante variables de entorno.",
   "id": "37ee0d44fac7cb08"
  },
  {
   "metadata": {
    "ExecuteTime": {
     "end_time": "2025-09-15T20:36:56.962066Z",
     "start_time": "2025-09-15T20:36:56.917606Z"
    }
   },
   "cell_type": "code",
   "source": [
    "load_dotenv()\n",
    "client_id = os.getenv(\"CLIENT_ID\")\n",
    "client_secret = os.getenv('CLIENT_SECRET')\n"
   ],
   "id": "9dbdff5e6cd941d1",
   "outputs": [],
   "execution_count": 77
  },
  {
   "metadata": {},
   "cell_type": "markdown",
   "source": [
    "##### Detalles\n",
    "\n",
    "En este paso lo que se hace es iniciar una librería de spotipy. Este paso establece la conexión autenticada con la API de Spotify, creando una instancia del cliente autorizado para hacer solicitudes."
   ],
   "id": "c30bbd5ac657e57a"
  },
  {
   "metadata": {
    "ExecuteTime": {
     "end_time": "2025-09-15T20:38:27.282894Z",
     "start_time": "2025-09-15T20:38:27.211710Z"
    }
   },
   "cell_type": "code",
   "source": [
    "import spotipy\n",
    "from spotipy.oauth2 import SpotifyClientCredentials\n",
    "\n",
    "auth_manager = SpotifyClientCredentials(client_id=client_id,\n",
    "                                        client_secret=client_secret)\n",
    "spotify = spotipy.Spotify(auth_manager=auth_manager)"
   ],
   "id": "da9160fbf4b64411",
   "outputs": [],
   "execution_count": 78
  },
  {
   "metadata": {},
   "cell_type": "markdown",
   "source": "Este código recupera y muestra información específica de un artista desde la API de Spotify usando su ID único. Este paso es fundamental para **confirmar la conexión exitosa** con la API y **obtener información básica** antes de solicitar datos más específicos como top canciones o álbumes.",
   "id": "b9137e57298033fc"
  },
  {
   "metadata": {
    "ExecuteTime": {
     "end_time": "2025-09-15T20:43:15.352058Z",
     "start_time": "2025-09-15T20:43:12.064092Z"
    }
   },
   "cell_type": "code",
   "source": [
    "artist_id = \"6tbjWDEIzxoDsBA1FuhfPW\"\n",
    "artist_info = spotify.artist(artist_id)\n",
    "artist_name = artist_info['name']\n",
    "\n",
    "f\"Artista 🎵: {artist_name}\""
   ],
   "id": "349915231cd245c3",
   "outputs": [
    {
     "data": {
      "text/plain": [
       "'Artista 🎵: Madonna'"
      ]
     },
     "execution_count": 79,
     "metadata": {},
     "output_type": "execute_result"
    }
   ],
   "execution_count": 79
  },
  {
   "metadata": {},
   "cell_type": "markdown",
   "source": "Este código recupera y estructura las **10 canciones más populares** de un artista desde la API de Spotify. Este código es esencial para extraer y organizar la información musical clave de un artista, formando la base para análisis, visualización o almacenamiento de datos.",
   "id": "d862739e913a8ab6"
  },
  {
   "metadata": {
    "ExecuteTime": {
     "end_time": "2025-09-13T16:49:16.292863Z",
     "start_time": "2025-09-13T16:49:15.159572Z"
    }
   },
   "cell_type": "code",
   "source": [
    "top_tracks = spotify.artist_top_tracks(artist_id)\n",
    "\n",
    "tracks_list = []\n",
    "for track in top_tracks['tracks'][:10]:\n",
    "    track_info = {'song': track['name'],\n",
    "                  'popularity': track['popularity'],\n",
    "                  'duration': track['duration_ms'],}\n",
    "    tracks_list.append(track_info)\n",
    "\n",
    "tracks_list"
   ],
   "id": "a78d2a42425bc40b",
   "outputs": [
    {
     "data": {
      "text/plain": [
       "[{'song': 'Popular (with Playboi Carti & Madonna) - From The Idol Vol. 1 (Music from the HBO Original Series)',\n",
       "  'popularity': 81,\n",
       "  'duration': 215466},\n",
       " {'song': 'La Isla Bonita', 'popularity': 71, 'duration': 242733},\n",
       " {'song': 'Like a Prayer', 'popularity': 72, 'duration': 340866},\n",
       " {'song': 'Hung Up', 'popularity': 77, 'duration': 337733},\n",
       " {'song': 'Material Girl', 'popularity': 68, 'duration': 240706},\n",
       " {'song': '4 Minutes (feat. Justin Timberlake & Timbaland)',\n",
       "  'popularity': 76,\n",
       "  'duration': 189693},\n",
       " {'song': 'Vogue', 'popularity': 66, 'duration': 317080},\n",
       " {'song': 'Like a Virgin', 'popularity': 70, 'duration': 218626},\n",
       " {'song': 'Into the Groove', 'popularity': 62, 'duration': 283848},\n",
       " {'song': \"Papa Don't Preach\", 'popularity': 60, 'duration': 268533}]"
      ]
     },
     "execution_count": 72,
     "metadata": {},
     "output_type": "execute_result"
    }
   ],
   "execution_count": 72
  },
  {
   "metadata": {},
   "cell_type": "markdown",
   "source": "Este código guarda la lista de canciones en un **archivo JSON** para guardar los datos obtenidos de la API de Spotify.",
   "id": "239d76a6da460c15"
  },
  {
   "metadata": {
    "ExecuteTime": {
     "end_time": "2025-09-15T20:46:56.944110Z",
     "start_time": "2025-09-15T20:46:56.798363Z"
    }
   },
   "cell_type": "code",
   "source": [
    "with open ('tracks_list.json', 'w') as file:\n",
    "    json.dump(tracks_list, file, indent=4)"
   ],
   "id": "bcb2d88241c7e4f8",
   "outputs": [],
   "execution_count": 80
  }
 ],
 "metadata": {
  "kernelspec": {
   "display_name": "Python 3",
   "language": "python",
   "name": "python3"
  },
  "language_info": {
   "codemirror_mode": {
    "name": "ipython",
    "version": 2
   },
   "file_extension": ".py",
   "mimetype": "text/x-python",
   "name": "python",
   "nbconvert_exporter": "python",
   "pygments_lexer": "ipython2",
   "version": "2.7.6"
  }
 },
 "nbformat": 4,
 "nbformat_minor": 5
}
